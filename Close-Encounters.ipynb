{
 "cells": [
  {
   "cell_type": "code",
   "execution_count": 4,
   "metadata": {},
   "outputs": [],
   "source": [
    "import rebound\n",
    "from IPython.display import display, clear_output\n",
    "import matplotlib.pyplot as plt\n",
    "#import ipywidgets as widgets\n",
    "import numpy as np\n"
   ]
  },
  {
   "cell_type": "code",
   "execution_count": 5,
   "metadata": {},
   "outputs": [
    {
     "name": "stdout",
     "output_type": "stream",
     "text": [
      "---------------------------------\n",
      "REBOUND version:     \t3.8.0\n",
      "REBOUND built on:    \tMar  9 2019 15:06:42\n",
      "Number of particles: \t10\n",
      "Selected integrator: \tias15\n",
      "Simulation time:     \t0.0000000000000000e+00\n",
      "Current timestep:    \t0.001000\n",
      "---------------------------------\n",
      "<rebound.Particle object, m=1.0 x=-0.0012246196513226696 y=0.007528875304464409 z=-4.529766384857568e-05 vx=-0.002977509060539432 vy=0.0005196272260244045 vz=7.716255120345911e-05>\n",
      "<rebound.Particle object, m=1.6601141530543488e-07 x=-0.041258932999459125 y=0.3143342414090862 z=0.028697467456984704 vx=-12.254319160571612 vy=-0.9553420041882094 vz=1.0458785453484094>\n",
      "<rebound.Particle object, m=2.4478382877847715e-06 x=-0.42146563703371775 y=-0.5822813543687417 z=0.016112894679529973 vx=5.962294718483822 vy=-4.320328498402832 vz=-0.403452133194268>\n",
      "<rebound.Particle object, m=3.040432648022642e-06 x=-0.9283011176696948 y=0.3564081321895419 z=-5.846429717789078e-05 vx=-2.3186436741180527 vy=-5.904385726074369 vz=0.00035158660484449565>\n",
      "<rebound.Particle object, m=3.2271560375549977e-07 x=0.4370455723275469 y=1.4713813537818472 z=0.019873687699509396 vx=-4.706259467515775 vy=1.901115449935073 vz=0.15530667138820572>\n",
      "<rebound.Particle object, m=3.287781142545315e-47 x=0.5827919550186851 y=-0.9375180561907336 z=0.03142905255058728 vx=5.387239122493955 vy=-0.05416268922618319 vz=-1.5542005156036507>\n",
      "<rebound.Particle object, m=0.0009547919152112404 x=-1.7287936284330665 y=-5.036840440696765 z=0.05956103457644043 vx=2.5737814570669224 vy=-0.7633161644852355 vz=-0.05440671016424312>\n",
      "<rebound.Particle object, m=0.0002858856727222417 x=2.260088246651356 y=-9.792182534698739 z=0.0802951982042647 vx=1.8731259841133068 vy=0.4518721656753819 vz=-0.0824219194234453>\n",
      "<rebound.Particle object, m=4.36624373583127e-05 x=16.89372166996993 y=10.436331576085776 z=-0.18009957599903295 vx=-0.7655527097953181 vy=1.1552046748963458 vz=0.014208482392867141>\n",
      "<rebound.Particle object, m=5.151383772628674e-05 x=29.02579012985633 y=-7.30205897178068 z=-0.5185564416364544 vx=0.2721101061017439 vy=1.1187377993533596 vz=-0.029309141451892146>\n",
      "---------------------------------\n"
     ]
    }
   ],
   "source": [
    "sim = rebound.Simulation.from_file(\"checkpoint.bin\")\n",
    "sim.status()"
   ]
  },
  {
   "cell_type": "code",
   "execution_count": 6,
   "metadata": {},
   "outputs": [
    {
     "name": "stdout",
     "output_type": "stream",
     "text": [
      "0.0\n",
      "999.9909999910001\n",
      "1999.991999992\n",
      "2999.992999993\n",
      "3999.993999994\n",
      "4999.994999995\n",
      "encounter HEEEEEEEEEer\n",
      "[5271.370840501707, array([0.        , 0.68060798, 0.06967392, 1.6914646 , 2.10444429])]\n",
      "encounter HEEEEEEEEEer\n",
      "[5652.473695495166, array([0.        , 0.74435634, 0.06947578, 0.58549286, 1.84634168])]\n",
      "encounter HEEEEEEEEEer\n",
      "[5499.604950882045, array([0.        , 1.14893422, 0.0693349 , 1.3435133 , 0.80390596])]\n",
      "encounter HEEEEEEEEEer\n",
      "[1220.4068266011182, array([0.        , 1.25563117, 1.64755133, 0.0690348 , 1.66107502])]\n",
      "encounter HEEEEEEEEEer\n",
      "[1220.4060202577868, array([0.        , 1.25632255, 1.64612195, 0.06918448, 1.66022751])]\n",
      "encounter HEEEEEEEEEer\n",
      "[1220.4058633602385, array([0.        , 1.25644865, 1.64584126, 0.0692321 , 1.66006422])]\n",
      "encounter HEEEEEEEEEer\n",
      "[1220.4058457135102, array([0.        , 1.25646266, 1.64580964, 0.06923783, 1.66004589])]\n",
      "encounter HEEEEEEEEEer\n",
      "[1220.4061086702388, array([0.        , 1.25625028, 1.64627975, 0.0691603 , 1.66031976])]\n",
      "encounter HEEEEEEEEEer\n",
      "[1220.405574711452, array([0.        , 1.25667339, 1.64532269, 0.06933537, 1.65976521])]\n",
      "encounter HEEEEEEEEEer\n",
      "[1220.405774854411, array([0.        , 1.25651856, 1.64568256, 0.06926161, 1.65997235])]\n",
      "encounter HEEEEEEEEEer\n",
      "[1220.4062746028953, array([0.        , 1.25611228, 1.6465752 , 0.06912006, 1.66049334])]\n",
      "encounter HEEEEEEEEEer\n",
      "[1220.4060177589427, array([0.        , 1.25632458, 1.64611749, 0.06918519, 1.66022491])]\n",
      "encounter HEEEEEEEEEer\n",
      "[1220.4061310315494, array([0.        , 1.25623186, 1.64631962, 0.06915448, 1.66034311])]\n",
      "encounter HEEEEEEEEEer\n",
      "[1220.4068268941926, array([0.        , 1.25563091, 1.64755185, 0.06903477, 1.66107533])]\n",
      "encounter HEEEEEEEEEer\n",
      "[1220.4055569217373, array([0.        , 1.25668693, 1.64529064, 0.06934239, 1.65974684])]\n",
      "encounter HEEEEEEEEEer\n",
      "[1220.4062816478208, array([0.        , 1.25610635, 1.64658773, 0.0691185 , 1.66050072])]\n",
      "encounter HEEEEEEEEEer\n",
      "[1220.4061220238696, array([0.        , 1.25623929, 1.64630356, 0.06915681, 1.6603337 ])]\n",
      "encounter HEEEEEEEEEer\n",
      "[1220.4060356947325, array([0.        , 1.25630999, 1.64614952, 0.06918012, 1.6602436 ])]\n",
      "encounter HEEEEEEEEEer\n",
      "[1220.406114048111, array([0.        , 1.25624585, 1.64628934, 0.06915889, 1.66032537])]\n",
      "encounter HEEEEEEEEEer\n",
      "[1220.4056071819293, array([0.        , 1.25664857, 1.64538117, 0.06932274, 1.65979875])]\n",
      "encounter HEEEEEEEEEer\n",
      "[1220.4054186008673, array([0.        , 1.25679101, 1.64504106, 0.06939965, 1.65960424])]\n",
      "encounter HEEEEEEEEEer\n",
      "[1220.4053155891036, array([0.        , 1.2568671 , 1.64485476, 0.06944529, 1.65949831])]\n",
      "encounter HEEEEEEEEEer\n",
      "[1220.4066947338806, array([0.        , 1.25574917, 1.64731908, 0.06904837, 1.66093547])]\n",
      "encounter HEEEEEEEEEer\n",
      "[1220.4068416213713, array([0.        , 1.25561761, 1.64757775, 0.06903352, 1.66109094])]\n",
      "encounter HEEEEEEEEEer\n",
      "[1220.4054251474302, array([0.        , 1.25678613, 1.64505288, 0.06939683, 1.65961098])]\n",
      "encounter HEEEEEEEEEer\n",
      "[1220.4061932796958, array([0.        , 1.2561803 , 1.64643052, 0.06913894, 1.66040819])]\n",
      "encounter HEEEEEEEEEer\n",
      "[1220.4066661610527, array([0.        , 1.25577448, 1.64726868, 0.06905187, 1.66090528])]\n",
      "encounter HEEEEEEEEEer\n",
      "[1220.405670360815, array([0.        , 1.25659996, 1.64549484, 0.0692989 , 1.65986409])]\n",
      "encounter HEEEEEEEEEer\n",
      "[1220.4053325807133, array([0.        , 1.25685464, 1.64488552, 0.06943759, 1.65951577])]\n",
      "encounter HEEEEEEEEEer\n",
      "[1220.4050424208604, array([0.        , 1.25706305, 1.64435902, 0.06957873, 1.65921852])]\n",
      "encounter HEEEEEEEEEer\n",
      "[1220.4067966366417, array([0.        , 1.25565815, 1.64749861, 0.06903751, 1.66104328])]\n",
      "encounter HEEEEEEEEEer\n",
      "[1220.4061233887076, array([0.        , 1.25623816, 1.646306  , 0.06915645, 1.66033513])]\n",
      "encounter HEEEEEEEEEer\n",
      "[1220.406246800625, array([0.        , 1.25613561, 1.64652576, 0.06912633, 1.66046421])]\n",
      "encounter HEEEEEEEEEer\n",
      "[1220.4061963527788, array([0.        , 1.25617774, 1.64643599, 0.0691382 , 1.66041141])]\n"
     ]
    },
    {
     "ename": "KeyboardInterrupt",
     "evalue": "",
     "output_type": "error",
     "traceback": [
      "\u001b[0;31m---------------------------------------------------------------------------\u001b[0m",
      "\u001b[0;31mEncounter\u001b[0m                                 Traceback (most recent call last)",
      "\u001b[0;32m<ipython-input-6-97401e9a1eb9>\u001b[0m in \u001b[0;36m<module>\u001b[0;34m()\u001b[0m\n\u001b[1;32m     19\u001b[0m     \u001b[0;32mtry\u001b[0m\u001b[0;34m:\u001b[0m\u001b[0;34m\u001b[0m\u001b[0m\n\u001b[0;32m---> 20\u001b[0;31m         \u001b[0msim\u001b[0m\u001b[0;34m.\u001b[0m\u001b[0mintegrate\u001b[0m\u001b[0;34m(\u001b[0m\u001b[0mtime\u001b[0m\u001b[0;34m)\u001b[0m\u001b[0;34m\u001b[0m\u001b[0m\n\u001b[0m\u001b[1;32m     21\u001b[0m \u001b[0;34m\u001b[0m\u001b[0m\n",
      "\u001b[0;32m~/SHP/Cruithne3753/env/lib/python3.4/site-packages/rebound/simulation.py\u001b[0m in \u001b[0;36mintegrate\u001b[0;34m(self, tmax, exact_finish_time)\u001b[0m\n\u001b[1;32m   1541\u001b[0m             \u001b[0;32mif\u001b[0m \u001b[0mret_value\u001b[0m \u001b[0;34m==\u001b[0m \u001b[0;36m3\u001b[0m\u001b[0;34m:\u001b[0m\u001b[0;34m\u001b[0m\u001b[0m\n\u001b[0;32m-> 1542\u001b[0;31m                 \u001b[0;32mraise\u001b[0m \u001b[0mEncounter\u001b[0m\u001b[0;34m(\u001b[0m\u001b[0;34m\"Two particles had a close encounter (d<exit_min_distance).\"\u001b[0m\u001b[0;34m)\u001b[0m\u001b[0;34m\u001b[0m\u001b[0m\n\u001b[0m\u001b[1;32m   1543\u001b[0m             \u001b[0;32mif\u001b[0m \u001b[0mret_value\u001b[0m \u001b[0;34m==\u001b[0m \u001b[0;36m4\u001b[0m\u001b[0;34m:\u001b[0m\u001b[0;34m\u001b[0m\u001b[0m\n",
      "\u001b[0;31mEncounter\u001b[0m: Two particles had a close encounter (d<exit_min_distance).",
      "\nDuring handling of the above exception, another exception occurred:\n",
      "\u001b[0;31mKeyboardInterrupt\u001b[0m                         Traceback (most recent call last)",
      "\u001b[0;32m<ipython-input-6-97401e9a1eb9>\u001b[0m in \u001b[0;36m<module>\u001b[0;34m()\u001b[0m\n\u001b[1;32m     28\u001b[0m         \u001b[0mclose_encounters\u001b[0m\u001b[0;34m.\u001b[0m\u001b[0mappend\u001b[0m\u001b[0;34m(\u001b[0m\u001b[0;34m[\u001b[0m\u001b[0msim\u001b[0m\u001b[0;34m.\u001b[0m\u001b[0mt\u001b[0m\u001b[0;34m,\u001b[0m \u001b[0mdistance\u001b[0m\u001b[0;34m]\u001b[0m\u001b[0;34m)\u001b[0m\u001b[0;34m\u001b[0m\u001b[0m\n\u001b[1;32m     29\u001b[0m         \u001b[0msim\u001b[0m\u001b[0;34m.\u001b[0m\u001b[0mexit_min_distance\u001b[0m \u001b[0;34m=\u001b[0m \u001b[0;36m0.001\u001b[0m\u001b[0;34m\u001b[0m\u001b[0m\n\u001b[0;32m---> 30\u001b[0;31m         \u001b[0msim\u001b[0m\u001b[0;34m.\u001b[0m\u001b[0mintegrate\u001b[0m\u001b[0;34m(\u001b[0m\u001b[0;36m0.1\u001b[0m\u001b[0;34m)\u001b[0m\u001b[0;34m\u001b[0m\u001b[0m\n\u001b[0m",
      "\u001b[0;32m~/SHP/Cruithne3753/env/lib/python3.4/site-packages/rebound/simulation.py\u001b[0m in \u001b[0;36mintegrate\u001b[0;34m(self, tmax, exact_finish_time)\u001b[0m\n\u001b[1;32m   1546\u001b[0m                 \u001b[0;32mraise\u001b[0m \u001b[0mEscape\u001b[0m\u001b[0;34m(\u001b[0m\u001b[0;34m\"User caused exit. Simulation did not finish.\"\u001b[0m\u001b[0;34m)\u001b[0m \u001b[0;31m# should not occur in python\u001b[0m\u001b[0;34m\u001b[0m\u001b[0m\n\u001b[1;32m   1547\u001b[0m             \u001b[0;32mif\u001b[0m \u001b[0mret_value\u001b[0m \u001b[0;34m==\u001b[0m \u001b[0;36m6\u001b[0m\u001b[0;34m:\u001b[0m\u001b[0;34m\u001b[0m\u001b[0m\n\u001b[0;32m-> 1548\u001b[0;31m                 \u001b[0;32mraise\u001b[0m \u001b[0mKeyboardInterrupt\u001b[0m\u001b[0;34m\u001b[0m\u001b[0m\n\u001b[0m\u001b[1;32m   1549\u001b[0m             \u001b[0;32mif\u001b[0m \u001b[0mret_value\u001b[0m \u001b[0;34m==\u001b[0m \u001b[0;36m7\u001b[0m\u001b[0;34m:\u001b[0m\u001b[0;34m\u001b[0m\u001b[0m\n\u001b[1;32m   1550\u001b[0m                 \u001b[0;32mraise\u001b[0m \u001b[0mCollision\u001b[0m\u001b[0;34m(\u001b[0m\u001b[0;34m\"Two particles collided (d < r1+r2)\"\u001b[0m\u001b[0;34m)\u001b[0m\u001b[0;34m\u001b[0m\u001b[0m\n",
      "\u001b[0;31mKeyboardInterrupt\u001b[0m: "
     ]
    }
   ],
   "source": [
    "sim.exit_min_distance = 0.3\n",
    "Starttime = 0\n",
    "Noutputs = 1000000\n",
    "year = 10000 # One year in units where G=1\n",
    "times = np.linspace(0.,year, Noutputs)\n",
    "\n",
    "close_encounters = []\n",
    "\n",
    "\n",
    "sim.integrator = \"ias15\" # IAS15 is the default integrator, so we actually don't need this line\n",
    "sim.move_to_com()        # We always move to the center of momentum frame before an integration\n",
    "ps = sim.particles       # ps is now an array of pointers and will change as the simulation runs\n",
    "\n",
    "#sim.integrate(Starttime)\n",
    "for i,time in enumerate(times):\n",
    "    sim.exit_min_distance = 0.07\n",
    "    if i % 100000 ==0:\n",
    "        print(sim.t)\n",
    "    try:\n",
    "        sim.integrate(time)\n",
    "        \n",
    "    except rebound.Encounter as error:\n",
    "        print(\"encounter HEEEEEEEEEer\")\n",
    "        distance = np.zeros((5))\n",
    "        for i in range(1,5):\n",
    "            distance[i] = np.sqrt(np.square(ps[5].x-ps[i].x)+np.square(ps[5].y-ps[i].y)+np.square(ps[5].z-ps[i].z))\n",
    "        print([sim.t, distance])\n",
    "        close_encounters.append([sim.t, distance])\n",
    "        sim.exit_min_distance = 0.001\n",
    "        sim.integrate(0.1)\n",
    "\n"
   ]
  },
  {
   "cell_type": "markdown",
   "metadata": {},
   "source": [
    "[5306.434427924216, array([0.        , 1.14572528, 0.06964822, 1.68572411, 1.79109759])]\n",
    "[6085.573713036437, array([0.        , 0.30898792, 0.05953083, 0.97096288, 0.85466458])]"
   ]
  },
  {
   "cell_type": "code",
   "execution_count": null,
   "metadata": {},
   "outputs": [],
   "source": [
    "[5306.434427924216, array([0. , 1.14572528, 0.06964822, 1.68572411, 1.79109759])]\n",
    "[6085.573713036437, array([0. , 0.30898792, 0.05953083, 0.97096288, 0.85466458])]\n",
    "[6464.229331735173, array([0.        , 1.09863523, 0.04940275, 1.48283722, 1.22438657])]\n",
    "[6881.949483662994, array([0.        , 0.4116883 , 0.03893453, 0.36247553, 0.81392869])]\n",
    "[7586.95879351716, array([0.        , 0.92501376, 0.0295505 , 0.38426071, 1.56726032])]"
   ]
  }
 ],
 "metadata": {
  "kernelspec": {
   "display_name": "env",
   "language": "python",
   "name": "env"
  },
  "language_info": {
   "codemirror_mode": {
    "name": "ipython",
    "version": 3
   },
   "file_extension": ".py",
   "mimetype": "text/x-python",
   "name": "python",
   "nbconvert_exporter": "python",
   "pygments_lexer": "ipython3",
   "version": "3.4.9"
  }
 },
 "nbformat": 4,
 "nbformat_minor": 2
}
