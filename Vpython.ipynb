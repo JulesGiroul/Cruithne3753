{
 "cells": [
  {
   "cell_type": "code",
   "execution_count": 23,
   "metadata": {},
   "outputs": [],
   "source": [
    "import rebound\n",
    "from IPython.display import display, clear_output\n",
    "import matplotlib.pyplot as plt\n",
    "import ipywidgets as widgets\n",
    "import numpy as np"
   ]
  },
  {
   "cell_type": "code",
   "execution_count": 24,
   "metadata": {},
   "outputs": [
    {
     "name": "stdout",
     "output_type": "stream",
     "text": [
      "---------------------------------\n",
      "REBOUND version:     \t3.7.2\n",
      "REBOUND built on:    \tJan 31 2019 09:37:22\n",
      "Number of particles: \t10\n",
      "Selected integrator: \tias15\n",
      "Simulation time:     \t0.0000000000000000e+00\n",
      "Current timestep:    \t0.001000\n",
      "---------------------------------\n",
      "<rebound.Particle object, m=1.0 x=-0.0010157112973492918 y=0.007488730361825614 z=-5.069533736898837e-05 vx=-0.0029328720427306775 vy=0.0006155424014823996 vz=7.56272178380342e-05>\n",
      "<rebound.Particle object, m=1.6601141530543488e-07 x=0.318037998169637 y=-0.23925513111096758 z=-0.04948219703090178 vx=4.2567040876537705 vy=8.607331159042683 vz=0.3125908459695051>\n",
      "<rebound.Particle object, m=2.4478382877847715e-06 x=-0.7022578873416416 y=-0.15564336442243198 z=0.03817797548211421 vx=1.623166596267045 vy=-7.227832794574069 vz=-0.19294622264815264>\n",
      "<rebound.Particle object, m=3.040432648022642e-06 x=-0.6769295705265821 y=0.7246579288413936 z=-8.129822623584453e-05 vx=-4.678380415993614 vy=-4.332952208298205 vz=0.0002858688872660647>\n",
      "<rebound.Particle object, m=3.2271560375549977e-07 x=0.7542200412934991 y=1.2971115293690405 z=0.008440070056628415 vx=-4.220024541762946 vy=3.018797144893599 vz=0.1667940580096691>\n",
      "<rebound.Particle object, m=3.287781142545315e-47 x=0.16329322850211173 y=-0.8509947285947593 z=0.13492926733104785 vx=6.400626332561627 vy=-2.648389092465495 vz=-1.2964199329608588>\n",
      "<rebound.Particle object, m=0.0009547919152112404 x=-1.909556839428361 y=-4.979622656754938 z=0.06336717507018724 vx=2.5403802831297853 vy=-0.8554165009149638 vz=-0.05327711685840604>\n",
      "<rebound.Particle object, m=0.0002858856727222417 x=2.1274719255196572 y=-9.823169943877456 z=0.08611311931834369 vx=1.87918842304863 vy=0.4249036611083934 vz=-0.08219337544002295>\n",
      "<rebound.Particle object, m=4.36624373583127e-05 x=16.947620745449345 y=10.354546001292743 z=-0.1811016130745583 vx=-0.7595176531869208 vy=1.158911131646361 vz=0.014144079107907541>\n",
      "<rebound.Particle object, m=5.151383772628674e-05 x=29.00644951775412 y=-7.381108775950974 z=-0.5164828505001788 vx=0.2751317011929005 vy=1.1179732208222402 vz=-0.029363035397569306>\n",
      "---------------------------------\n"
     ]
    }
   ],
   "source": [
    "sim = rebound.Simulation.from_file(\"checkpoint.bin\")\n",
    "sim.status()"
   ]
  },
  {
   "cell_type": "code",
   "execution_count": 25,
   "metadata": {
    "scrolled": true
   },
   "outputs": [
    {
     "name": "stdout",
     "output_type": "stream",
     "text": [
      "0\n",
      "1000\n"
     ]
    }
   ],
   "source": [
    "sim.integrator = \"ias15\" # IAS15 is the default integrator, so we actually don't need this line\n",
    "sim.move_to_com()        # We always move to the center of momentum frame before an integration\n",
    "ps = sim.particles       # ps is now an array of pointers and will change as the simulation runs\n",
    "# sun = ps[0]\n",
    "# mercury = ps[1]\n",
    "# venus = ps[2]\n",
    "# earth = ps[3]\n",
    "# Mars = ps[4]\n",
    "# cruithne = ps[5]\n",
    "# jupiter = ps[6]\n",
    "# saturn = ps[7]\n",
    "# uranus = ps[8]\n",
    "# neptune = ps[9]\n",
    "\n",
    "Noutputs = 2000\n",
    "year = 5 # One year in units where G=1\n",
    "times = np.linspace(0.,+10.*year, Noutputs)\n",
    "\n",
    "sunx = np.zeros((Noutputs))\n",
    "suny = np.zeros((Noutputs))\n",
    "sunz = np.zeros((Noutputs))\n",
    "sunvx = np.zeros((Noutputs))\n",
    "sunvy = np.zeros((Noutputs))\n",
    "sunvz = np.zeros((Noutputs))\n",
    "\n",
    "mercury = np.zeros(Noutputs)\n",
    "venus = np.zeros(Noutputs)\n",
    "\n",
    "earthx = np.zeros(Noutputs)\n",
    "earthy = np.zeros(Noutputs)\n",
    "earthz = np.zeros(Noutputs)\n",
    "earthvx = np.zeros(Noutputs)\n",
    "earthvy = np.zeros(Noutputs)\n",
    "earthvz = np.zeros(Noutputs)\n",
    "\n",
    "mars = np.zeros(Noutputs)\n",
    "cruithne = np.zeros(Noutputs)\n",
    "jupiter = np.zeros(Noutputs)\n",
    "saturn = np.zeros(Noutputs)\n",
    "uranus = np.zeros(Noutputs)\n",
    "neptune = np.zeros(Noutputs)\n",
    "\n",
    "for i,time in enumerate(times):#store all particles throughout times\n",
    "    if i % 1000 ==0:\n",
    "        print(i)\n",
    "    sim.integrate(time)\n",
    "    sunx[i] = ps[0].x\n",
    "    suny[i] = ps[0].y\n",
    "    sunz[i] = ps[0].z\n",
    "    sunvx[i] = ps[0].vx\n",
    "    sunvy[i] = ps[0].vy\n",
    "    sunvz[i] = ps[0].vz\n",
    "    earthx[i] = ps[3].x\n",
    "    earthy[i] = ps[3].y\n",
    "    earthz[i] = ps[3].z\n",
    "    earthvx[i] = ps[3].vx\n",
    "    earthvy[i] = ps[3].vy\n",
    "    earthvz[i] = ps[3].vz\n",
    "#     sun[i] = ps[0]\n",
    "#     mercury[i] = ps[1]\n",
    "#     venus[i] = ps[2]\n",
    "#     earth[i] = ps[3]\n",
    "#     mars[i] = ps[4]\n",
    "#     cruithne[i] = ps[5]\n",
    "#     jupiter[i] = ps[6]\n",
    "#     saturn[i] = ps[7]\n",
    "#     uranus[i] = ps[8]\n",
    "#     neptune[i] = ps[9]"
   ]
  },
  {
   "cell_type": "code",
   "execution_count": 28,
   "metadata": {
    "scrolled": true
   },
   "outputs": [],
   "source": [
    "from vpython import *\n",
    "\n",
    "i = 0\n",
    "sun_ = sphere(pos=vec(sunx[i],suny[i], sunz[i]), radius=0.2, color=color.yellow)\n",
    "earth_ = sphere(pos=vec(earthvx[i],earthvy[i], earthvz[i]), radius=0.1, color=color.blue)\n",
    "\n",
    "sun_.velocity = vec(sunvx[i],sunvy[i], sunvz[i])\n",
    "earth_.velocity = vec(earthvx[i],earthvy[i], earthvz[i])\n",
    "\n",
    "while i < Noutputs-1:\n",
    "    rate(100)\n",
    "    i += 1\n",
    "    sun_.velocity = vec(sunvx[i],sunvy[i], sunvz[i])\n",
    "    earth_.velocity = vec(earthvx[i],earthvy[i], earthvz[i])\n",
    "\n",
    "    sun_.pos = vec(sunx[i],suny[i], sunz[i])\n",
    "    earth_.pos = vec(earthx[i],earthy[i], earthz[i])\n",
    "\n",
    "    \n",
    "    \n",
    "# ball = sphere(pos=vec(-5,0,0), radius=0.5, color=color.cyan)\n",
    "# wallR = box(pos=vec(6,0,0), size=vec(0.2,12,12), color=color.green)\n",
    "# ball.velocity = vector(25,0,0)\n",
    "# deltat = 0.005\n",
    "# t = 0\n",
    "# while t < 3:\n",
    "#     rate(100)\n",
    "#     if ball.pos.x > wallR.pos.x:\n",
    "#         print(\"hi\")\n",
    "#         ball.velocity.x = -ball.velocity.x\n",
    "#     ball.pos = ball.pos + ball.velocity*deltat\n",
    "#     t = t + deltat"
   ]
  },
  {
   "cell_type": "code",
   "execution_count": null,
   "metadata": {},
   "outputs": [],
   "source": []
  },
  {
   "cell_type": "code",
   "execution_count": null,
   "metadata": {},
   "outputs": [],
   "source": []
  }
 ],
 "metadata": {
  "kernelspec": {
   "display_name": "Python 3",
   "language": "python",
   "name": "python3"
  },
  "language_info": {
   "codemirror_mode": {
    "name": "ipython",
    "version": 3
   },
   "file_extension": ".py",
   "mimetype": "text/x-python",
   "name": "python",
   "nbconvert_exporter": "python",
   "pygments_lexer": "ipython3",
   "version": "3.6.6"
  }
 },
 "nbformat": 4,
 "nbformat_minor": 2
}
