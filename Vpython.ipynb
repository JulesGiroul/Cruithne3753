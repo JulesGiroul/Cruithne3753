{
 "cells": [
  {
   "cell_type": "code",
   "execution_count": 1,
   "metadata": {},
   "outputs": [],
   "source": [
    "import rebound\n",
    "from IPython.display import display, clear_output\n",
    "import matplotlib.pyplot as plt\n",
    "import ipywidgets as widgets\n",
    "import numpy as np"
   ]
  },
  {
   "cell_type": "code",
   "execution_count": 2,
   "metadata": {},
   "outputs": [
    {
     "name": "stdout",
     "output_type": "stream",
     "text": [
      "---------------------------------\n",
      "REBOUND version:     \t3.7.2\n",
      "REBOUND built on:    \tJan 31 2019 09:37:22\n",
      "Number of particles: \t10\n",
      "Selected integrator: \tias15\n",
      "Simulation time:     \t0.0000000000000000e+00\n",
      "Current timestep:    \t0.001000\n",
      "---------------------------------\n",
      "<rebound.Particle object, m=1.0 x=-0.0010377821915567387 y=0.007493321292031362 z=-5.012610063327123e-05 vx=-0.002937902617112376 vy=0.0006056110662132348 vz=7.578703369622471e-05>\n",
      "<rebound.Particle object, m=1.6601141530543488e-07 x=0.3443668457327731 y=-0.17067080513666635 z=-0.0462951133296615 vx=2.6968801249944008 vy=9.601036132615253 vz=0.5368849879358131>\n",
      "<rebound.Particle object, m=2.4478382877847715e-06 x=-0.6879796788647574 y=-0.20944951066386214 z=0.03661495770819082 vx=2.172777546712054 vy=-7.077368730280796 vz=-0.22259841261107977>\n",
      "<rebound.Particle object, m=3.040432648022642e-06 x=-0.7113045602813076 y=0.6912559280347028 z=-7.911325877229079e-05 vx=-4.4635291727530735 vy=-4.550103270674196 vz=0.0002952403660311697>\n",
      "<rebound.Particle object, m=3.2271560375549977e-07 x=0.7222418184269456 y=1.3193769251783092 z=0.009691205175749016 vx=-4.285531855139709 vy=2.903536753461382 vz=0.16598643583035083>\n",
      "<rebound.Particle object, m=3.287781142545315e-47 x=0.2111368239460187 y=-0.8695536132954607 z=0.12497534886643694 vx=6.323485856083891 vy=-2.2922114686158253 vz=-1.3498208103869687>\n",
      "<rebound.Particle object, m=0.0009547919152112404 x=-1.8904420641644137 y=-4.9860178783463756 z=0.06296612674680713 vx=2.5440837497591993 vy=-0.8456894477336778 vz=-0.05340035197423358>\n",
      "<rebound.Particle object, m=0.0002858856727222417 x=2.141598973228664 y=-9.819964343333854 z=0.08549502234316599 vx=1.8785610384796738 vy=0.4277758437078829 vz=-0.08221844152483909>\n",
      "<rebound.Particle object, m=4.36624373583127e-05 x=16.941907602232558 y=10.363258245601195 z=-0.18099523953894006 vx=-0.760160401427282 vy=1.1585183314623628 vz=0.01415094541807456>\n",
      "<rebound.Particle object, m=5.151383772628674e-05 x=29.00851699373711 y=-7.372702555359082 z=-0.5167036063072042 vx=0.27481038856769613 vy=1.1180549412232097 vz=-0.02935731294216716>\n",
      "---------------------------------\n"
     ]
    }
   ],
   "source": [
    "sim = rebound.Simulation.from_file(\"checkpoint.bin\")\n",
    "sim.status()"
   ]
  },
  {
   "cell_type": "code",
   "execution_count": 3,
   "metadata": {
    "scrolled": true
   },
   "outputs": [
    {
     "name": "stdout",
     "output_type": "stream",
     "text": [
      "0\n",
      "1000\n"
     ]
    }
   ],
   "source": [
    "sim.integrator = \"ias15\" # IAS15 is the default integrator, so we actually don't need this line\n",
    "sim.move_to_com()        # We always move to the center of momentum frame before an integration\n",
    "ps = sim.particles       # ps is now an array of pointers and will change as the simulation runs\n",
    "# sun = ps[0]\n",
    "# mercury = ps[1]\n",
    "# venus = ps[2]\n",
    "# earth = ps[3]\n",
    "# Mars = ps[4]\n",
    "# cruithne = ps[5]\n",
    "# jupiter = ps[6]\n",
    "# saturn = ps[7]\n",
    "# uranus = ps[8]\n",
    "# neptune = ps[9]\n",
    "\n",
    "Noutputs = 2000\n",
    "year = 5 # One year in units where G=1\n",
    "times = np.linspace(0.,+10.*year, Noutputs)\n",
    "\n",
    "sunx = np.zeros((Noutputs))\n",
    "suny = np.zeros((Noutputs))\n",
    "sunz = np.zeros((Noutputs))\n",
    "sunvx = np.zeros((Noutputs))\n",
    "sunvy = np.zeros((Noutputs))\n",
    "sunvz = np.zeros((Noutputs))\n",
    "\n",
    "mercury = np.zeros(Noutputs)\n",
    "venus = np.zeros(Noutputs)\n",
    "\n",
    "earthx = np.zeros(Noutputs)\n",
    "earthy = np.zeros(Noutputs)\n",
    "earthz = np.zeros(Noutputs)\n",
    "earthvx = np.zeros(Noutputs)\n",
    "earthvy = np.zeros(Noutputs)\n",
    "earthvz = np.zeros(Noutputs)\n",
    "\n",
    "mars = np.zeros(Noutputs)\n",
    "cruithne = np.zeros(Noutputs)\n",
    "jupiter = np.zeros(Noutputs)\n",
    "saturn = np.zeros(Noutputs)\n",
    "uranus = np.zeros(Noutputs)\n",
    "neptune = np.zeros(Noutputs)\n",
    "\n",
    "for i,time in enumerate(times):#store all particles throughout times\n",
    "    if i % 1000 ==0:\n",
    "        print(i)\n",
    "    sim.integrate(time)\n",
    "    sunx[i] = ps[0].x\n",
    "    suny[i] = ps[0].y\n",
    "    sunz[i] = ps[0].z\n",
    "    sunvx[i] = ps[0].vx\n",
    "    sunvy[i] = ps[0].vy\n",
    "    sunvz[i] = ps[0].vz\n",
    "    earthx[i] = ps[3].x\n",
    "    earthy[i] = ps[3].y\n",
    "    earthz[i] = ps[3].z\n",
    "    earthvx[i] = ps[3].vx\n",
    "    earthvy[i] = ps[3].vy\n",
    "    earthvz[i] = ps[3].vz\n",
    "#     sun[i] = ps[0]\n",
    "#     mercury[i] = ps[1]\n",
    "#     venus[i] = ps[2]\n",
    "#     earth[i] = ps[3]\n",
    "#     mars[i] = ps[4]\n",
    "#     cruithne[i] = ps[5]\n",
    "#     jupiter[i] = ps[6]\n",
    "#     saturn[i] = ps[7]\n",
    "#     uranus[i] = ps[8]\n",
    "#     neptune[i] = ps[9]"
   ]
  },
  {
   "cell_type": "code",
   "execution_count": 28,
   "metadata": {
    "scrolled": true
   },
   "outputs": [],
   "source": [
    "from vpython import *\n",
    "\n",
    "i = 0\n",
    "sun_ = sphere(pos=vec(sunx[i],suny[i], sunz[i]), radius=0.2, color=color.yellow)\n",
    "earth_ = sphere(pos=vec(earthvx[i],earthvy[i], earthvz[i]), radius=0.1, color=color.blue)\n",
    "\n",
    "sun_.velocity = vec(sunvx[i],sunvy[i], sunvz[i])\n",
    "earth_.velocity = vec(earthvx[i],earthvy[i], earthvz[i])\n",
    "\n",
    "while i < Noutputs-1:\n",
    "    rate(100)\n",
    "    i += 1\n",
    "    sun_.velocity = vec(sunvx[i],sunvy[i], sunvz[i])\n",
    "    earth_.velocity = vec(earthvx[i],earthvy[i], earthvz[i])\n",
    "\n",
    "    sun_.pos = vec(sunx[i],suny[i], sunz[i])\n",
    "    earth_.pos = vec(earthx[i],earthy[i], earthz[i])\n",
    "\n",
    "    \n",
    "    \n",
    "# ball = sphere(pos=vec(-5,0,0), radius=0.5, color=color.cyan)\n",
    "# wallR = box(pos=vec(6,0,0), size=vec(0.2,12,12), color=color.green)\n",
    "# ball.velocity = vector(25,0,0)\n",
    "# deltat = 0.005\n",
    "# t = 0\n",
    "# while t < 3:\n",
    "#     rate(100)\n",
    "#     if ball.pos.x > wallR.pos.x:\n",
    "#         print(\"hi\")\n",
    "#         ball.velocity.x = -ball.velocity.x\n",
    "#     ball.pos = ball.pos + ball.velocity*deltat\n",
    "#     t = t + deltat"
   ]
  },
  {
   "cell_type": "code",
   "execution_count": null,
   "metadata": {},
   "outputs": [],
   "source": []
  },
  {
   "cell_type": "code",
   "execution_count": null,
   "metadata": {},
   "outputs": [],
   "source": []
  }
 ],
 "metadata": {
  "kernelspec": {
   "display_name": "Python 3",
   "language": "python",
   "name": "python3"
  },
  "language_info": {
   "codemirror_mode": {
    "name": "ipython",
    "version": 3
   },
   "file_extension": ".py",
   "mimetype": "text/x-python",
   "name": "python",
   "nbconvert_exporter": "python",
   "pygments_lexer": "ipython3",
   "version": "3.6.6"
  }
 },
 "nbformat": 4,
 "nbformat_minor": 2
}
