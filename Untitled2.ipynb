{
 "cells": [
  {
   "cell_type": "code",
   "execution_count": 1,
   "metadata": {},
   "outputs": [],
   "source": [
    "import rebound\n",
    "import reboundx\n",
    "import numpy as np\n",
    "sim = rebound.Simulation()\n",
    "sim.G = 6.674e-11 # SI units\n",
    "sim.dt = 1.e4 # Initial timestep in sec.\n",
    "sim.N_active = 2 # Make it so dust particles don't interact with one another gravitationally\n",
    "sim.add(m=1.99e30, hash=\"Sun\") # add Sun with mass in kg\n",
    "sim.add(m=5.68e26, a=1.43e12, e=0.056, pomega = 0., f=0., hash=\"Saturn\") # Add Saturn at pericenter\n",
    "ps = sim.particles"
   ]
  },
  {
   "cell_type": "code",
   "execution_count": 2,
   "metadata": {},
   "outputs": [],
   "source": [
    "rebx = reboundx.Extras(sim)\n",
    "rf = rebx.add(\"radiation_forces\")\n",
    "rf.params[\"c\"] = 3.e8"
   ]
  },
  {
   "cell_type": "code",
   "execution_count": 3,
   "metadata": {},
   "outputs": [],
   "source": [
    "ps[\"Sun\"].params[\"radiation_source\"] = 1"
   ]
  },
  {
   "cell_type": "code",
   "execution_count": null,
   "metadata": {},
   "outputs": [],
   "source": []
  }
 ],
 "metadata": {
  "kernelspec": {
   "display_name": "Python 3",
   "language": "python",
   "name": "python3"
  },
  "language_info": {
   "codemirror_mode": {
    "name": "ipython",
    "version": 3
   },
   "file_extension": ".py",
   "mimetype": "text/x-python",
   "name": "python",
   "nbconvert_exporter": "python",
   "pygments_lexer": "ipython3",
   "version": "3.6.7"
  }
 },
 "nbformat": 4,
 "nbformat_minor": 2
}
