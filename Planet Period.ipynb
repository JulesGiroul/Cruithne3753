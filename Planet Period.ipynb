{
 "cells": [
  {
   "cell_type": "code",
   "execution_count": 12,
   "metadata": {
    "scrolled": true
   },
   "outputs": [
    {
     "name": "stdout",
     "output_type": "stream",
     "text": [
      "---------------------------------\n",
      "REBOUND version:     \t3.8.0\n",
      "REBOUND built on:    \tMar  9 2019 15:06:42\n",
      "Number of particles: \t10\n",
      "Selected integrator: \tias15\n",
      "Simulation time:     \t0.0000000000000000e+00\n",
      "Current timestep:    \t0.001000\n",
      "---------------------------------\n",
      "<rebound.Particle object, m=1.0 x=-0.0012246196513226696 y=0.007528875304464409 z=-4.529766384857568e-05 vx=-0.002977509060539432 vy=0.0005196272260244045 vz=7.716255120345911e-05>\n",
      "<rebound.Particle object, m=1.6601141530543488e-07 x=-0.041258932999459125 y=0.3143342414090862 z=0.028697467456984704 vx=-12.254319160571612 vy=-0.9553420041882094 vz=1.0458785453484094>\n",
      "<rebound.Particle object, m=2.4478382877847715e-06 x=-0.42146563703371775 y=-0.5822813543687417 z=0.016112894679529973 vx=5.962294718483822 vy=-4.320328498402832 vz=-0.403452133194268>\n",
      "<rebound.Particle object, m=3.040432648022642e-06 x=-0.9283011176696948 y=0.3564081321895419 z=-5.846429717789078e-05 vx=-2.3186436741180527 vy=-5.904385726074369 vz=0.00035158660484449565>\n",
      "<rebound.Particle object, m=3.2271560375549977e-07 x=0.4370455723275469 y=1.4713813537818472 z=0.019873687699509396 vx=-4.706259467515775 vy=1.901115449935073 vz=0.15530667138820572>\n",
      "<rebound.Particle object, m=3.287781142545315e-47 x=0.5827919550186851 y=-0.9375180561907336 z=0.03142905255058728 vx=5.387239122493955 vy=-0.05416268922618319 vz=-1.5542005156036507>\n",
      "<rebound.Particle object, m=0.0009547919152112404 x=-1.7287936284330665 y=-5.036840440696765 z=0.05956103457644043 vx=2.5737814570669224 vy=-0.7633161644852355 vz=-0.05440671016424312>\n",
      "<rebound.Particle object, m=0.0002858856727222417 x=2.260088246651356 y=-9.792182534698739 z=0.0802951982042647 vx=1.8731259841133068 vy=0.4518721656753819 vz=-0.0824219194234453>\n",
      "<rebound.Particle object, m=4.36624373583127e-05 x=16.89372166996993 y=10.436331576085776 z=-0.18009957599903295 vx=-0.7655527097953181 vy=1.1552046748963458 vz=0.014208482392867141>\n",
      "<rebound.Particle object, m=5.151383772628674e-05 x=29.02579012985633 y=-7.30205897178068 z=-0.5185564416364544 vx=0.2721101061017439 vy=1.1187377993533596 vz=-0.029309141451892146>\n",
      "---------------------------------\n"
     ]
    }
   ],
   "source": [
    "import rebound\n",
    "from IPython.display import display, clear_output\n",
    "import matplotlib.pyplot as plt\n",
    "#import ipywidgets as widgets\n",
    "import numpy as np\n",
    "\n",
    "\n",
    "sim = rebound.Simulation.from_file(\"checkpoint.bin\")\n",
    "sim.status()"
   ]
  },
  {
   "cell_type": "code",
   "execution_count": 13,
   "metadata": {
    "scrolled": true
   },
   "outputs": [],
   "source": [
    "# def get_distance(index):\n",
    "#     x = sim.particles[index].x\n",
    "#     y = sim.particles[index].y\n",
    "#     z = sim.particles[index].z\n",
    "#     return np.sqrt(np.square(x-x0)+np.square(y-y0)+np.square(z-z0))\n",
    "\n",
    "def calculate_period(index):\n",
    "\n",
    "    sim.t = 0\n",
    "    sim.move_to_com()\n",
    "    xi_1 = 0\n",
    "    xi_0 = 0\n",
    "    i = 0\n",
    "    x0 = sim.particles[index].x\n",
    "    y0 = sim.particles[index].y\n",
    "    z0 = sim.particles[index].z\n",
    "\n",
    "    periods = []\n",
    "\n",
    "    for time in np.linspace(0,3.,500):\n",
    "        sim.integrate(time)\n",
    "        xi_0 = xi_1\n",
    "        xi_1 = sim.particles[index].x\n",
    "        if np.sign(xi_0) != np.sign(xi_1) and i>2:\n",
    "            periods.append(sim.t)\n",
    "\n",
    "        i+=1\n",
    "    periods_f = []\n",
    "    for i in range(len(periods)-2):\n",
    "        periods_f.append(periods[i+2]-periods[i])\n",
    "        \n",
    "    return periods_f\n",
    "  "
   ]
  },
  {
   "cell_type": "code",
   "execution_count": 6,
   "metadata": {},
   "outputs": [
    {
     "name": "stdout",
     "output_type": "stream",
     "text": [
      "Average orbital period of Mercury: 0.2408497283040126 years\n",
      "Average orbital period of Venus: 0.6151849216304597 years\n",
      "Average orbital period of Earth: 1.0000081943896526 years\n",
      "Average orbital period of Mars: 1.8809142349861974 years\n",
      "Average orbital period of Cruithne: 1.0012309660709167 years\n",
      "Average orbital period of Jupiter: 11.861919626593576 years\n",
      "Average orbital period of Saturn: 29.449805823624516 years\n",
      "Average orbital period of Uranus: 84.037201860093 years\n",
      "Average orbital period of Neptune: 164.72323616180807 years\n"
     ]
    }
   ],
   "source": [
    "print(\"Average orbital period of Mercury: \"+ str(np.mean(calculate_period(1))) + \" years\")\n",
    "print(\"Average orbital period of Venus: \"+ str(np.mean(calculate_period(2))) + \" years\")\n",
    "print(\"Average orbital period of Earth: \"+ str(np.mean(calculate_period(3))) + \" years\")\n",
    "print(\"Average orbital period of Mars: \"+ str(np.mean(calculate_period(4))) + \" years\")\n",
    "print(\"Average orbital period of Jupiter: \"+ str(np.mean(calculate_period(6))) + \" years\")\n",
    "print(\"Average orbital period of Saturn: \"+ str(np.mean(calculate_period(7))) + \" years\")\n",
    "print(\"Average orbital period of Uranus: \"+ str(np.mean(calculate_period(8))) + \" years\")\n",
    "print(\"Average orbital period of Neptune: \"+ str(np.mean(calculate_period(9))) + \" years\")\n",
    "print(\"Average orbital period of Cruithne: \"+ str(np.mean(calculate_period(5))) +\" years\")"
   ]
  },
  {
   "cell_type": "code",
   "execution_count": 14,
   "metadata": {},
   "outputs": [
    {
     "name": "stdout",
     "output_type": "stream",
     "text": [
      "0.45789473684210524\n",
      "0.6315789473684211\n",
      "0.9473684210526315\n",
      "1.894736842105263\n",
      "0.986842105263158\n",
      "nan\n",
      "nan\n",
      "nan\n",
      "nan\n"
     ]
    },
    {
     "name": "stderr",
     "output_type": "stream",
     "text": [
      "/afs/inf.ed.ac.uk/user/s14/s1439626/SHP/Cruithne3753/env/lib/python3.4/site-packages/numpy/core/fromnumeric.py:3118: RuntimeWarning: Mean of empty slice.\n",
      "  out=out, **kwargs)\n",
      "/afs/inf.ed.ac.uk/user/s14/s1439626/SHP/Cruithne3753/env/lib/python3.4/site-packages/numpy/core/_methods.py:85: RuntimeWarning: invalid value encountered in double_scalars\n",
      "  ret = ret.dtype.type(ret / rcount)\n"
     ]
    }
   ],
   "source": [
    "for i in range(1,10):\n",
    "    print(str(np.mean(calculate_period(i))))\n"
   ]
  },
  {
   "cell_type": "code",
   "execution_count": null,
   "metadata": {},
   "outputs": [],
   "source": []
  }
 ],
 "metadata": {
  "kernelspec": {
   "display_name": "env",
   "language": "python",
   "name": "env"
  },
  "language_info": {
   "codemirror_mode": {
    "name": "ipython",
    "version": 3
   },
   "file_extension": ".py",
   "mimetype": "text/x-python",
   "name": "python",
   "nbconvert_exporter": "python",
   "pygments_lexer": "ipython3",
   "version": "3.4.9"
  }
 },
 "nbformat": 4,
 "nbformat_minor": 2
}
