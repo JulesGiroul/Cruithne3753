{
 "cells": [
  {
   "cell_type": "code",
   "execution_count": 34,
   "metadata": {},
   "outputs": [
    {
     "name": "stdout",
     "output_type": "stream",
     "text": [
      "---------------------------------\n",
      "REBOUND version:     \t3.7.2\n",
      "REBOUND built on:    \tJan 31 2019 09:37:22\n",
      "Number of particles: \t10\n",
      "Selected integrator: \tias15\n",
      "Simulation time:     \t0.0000000000000000e+00\n",
      "Current timestep:    \t0.001000\n",
      "---------------------------------\n",
      "<rebound.Particle object, m=1.0 x=-0.0010157112973492918 y=0.007488730361825614 z=-5.069533736898837e-05 vx=-0.0029328720427306775 vy=0.0006155424014823996 vz=7.56272178380342e-05>\n",
      "<rebound.Particle object, m=1.6601141530543488e-07 x=0.318037998169637 y=-0.23925513111096758 z=-0.04948219703090178 vx=4.2567040876537705 vy=8.607331159042683 vz=0.3125908459695051>\n",
      "<rebound.Particle object, m=2.4478382877847715e-06 x=-0.7022578873416416 y=-0.15564336442243198 z=0.03817797548211421 vx=1.623166596267045 vy=-7.227832794574069 vz=-0.19294622264815264>\n",
      "<rebound.Particle object, m=3.040432648022642e-06 x=-0.6769295705265821 y=0.7246579288413936 z=-8.129822623584453e-05 vx=-4.678380415993614 vy=-4.332952208298205 vz=0.0002858688872660647>\n",
      "<rebound.Particle object, m=3.2271560375549977e-07 x=0.7542200412934991 y=1.2971115293690405 z=0.008440070056628415 vx=-4.220024541762946 vy=3.018797144893599 vz=0.1667940580096691>\n",
      "<rebound.Particle object, m=3.287781142545315e-47 x=0.16329322850211173 y=-0.8509947285947593 z=0.13492926733104785 vx=6.400626332561627 vy=-2.648389092465495 vz=-1.2964199329608588>\n",
      "<rebound.Particle object, m=0.0009547919152112404 x=-1.909556839428361 y=-4.979622656754938 z=0.06336717507018724 vx=2.5403802831297853 vy=-0.8554165009149638 vz=-0.05327711685840604>\n",
      "<rebound.Particle object, m=0.0002858856727222417 x=2.1274719255196572 y=-9.823169943877456 z=0.08611311931834369 vx=1.87918842304863 vy=0.4249036611083934 vz=-0.08219337544002295>\n",
      "<rebound.Particle object, m=4.36624373583127e-05 x=16.947620745449345 y=10.354546001292743 z=-0.1811016130745583 vx=-0.7595176531869208 vy=1.158911131646361 vz=0.014144079107907541>\n",
      "<rebound.Particle object, m=5.151383772628674e-05 x=29.00644951775412 y=-7.381108775950974 z=-0.5164828505001788 vx=0.2751317011929005 vy=1.1179732208222402 vz=-0.029363035397569306>\n",
      "---------------------------------\n"
     ]
    }
   ],
   "source": [
    "import rebound\n",
    "from IPython.display import display, clear_output\n",
    "import matplotlib.pyplot as plt\n",
    "import ipywidgets as widgets\n",
    "import numpy as np\n",
    "\n",
    "\n",
    "sim = rebound.Simulation.from_file(\"checkpoint.bin\")\n",
    "sim.status()"
   ]
  },
  {
   "cell_type": "code",
   "execution_count": 65,
   "metadata": {
    "scrolled": true
   },
   "outputs": [
    {
     "name": "stdout",
     "output_type": "stream",
     "text": [
      "[2.001000500250125, 2.003501750875438, 3.0015007503751874, 3.0040020010005, 4.00200100050025, 4.004502251125563, 4.997498749374687, 5.0]\n"
     ]
    }
   ],
   "source": []
  },
  {
   "cell_type": "code",
   "execution_count": 74,
   "metadata": {
    "scrolled": true
   },
   "outputs": [],
   "source": [
    "# def get_distance(index):\n",
    "#     x = sim.particles[index].x\n",
    "#     y = sim.particles[index].y\n",
    "#     z = sim.particles[index].z\n",
    "#     return np.sqrt(np.square(x-x0)+np.square(y-y0)+np.square(z-z0))\n",
    "\n",
    "def calculate_period(index):\n",
    "\n",
    "    sim.t = 0\n",
    "    sim.move_to_com()\n",
    "    xi_1 = 0\n",
    "    xi_0 = 0\n",
    "    i = 0\n",
    "    x0 = sim.particles[index].x\n",
    "    y0 = sim.particles[index].y\n",
    "    z0 = sim.particles[index].z\n",
    "\n",
    "    periods = []\n",
    "\n",
    "    for time in np.linspace(0,300.,20000):\n",
    "        sim.integrate(time)\n",
    "        xi_0 = xi_1\n",
    "        xi_1 = sim.particles[index].x\n",
    "        if np.sign(xi_0) != np.sign(xi_1) and i>2:\n",
    "            periods.append(sim.t)\n",
    "\n",
    "        i+=1\n",
    "    periods_f = []\n",
    "    for i in range(len(periods)-2):\n",
    "        periods_f.append(periods[i+2]-periods[i])\n",
    "        \n",
    "    return periods_f\n",
    "  "
   ]
  },
  {
   "cell_type": "code",
   "execution_count": 75,
   "metadata": {},
   "outputs": [
    {
     "name": "stdout",
     "output_type": "stream",
     "text": [
      "Average orbital period of Mercury: 0.24084370148599832years\n",
      "Average orbital period of Venus: 0.615200338639748years\n",
      "Average orbital period of Earth: 1.0000081943896526years\n",
      "Average orbital period of Mars: 1.8808669140081609years\n",
      "Average orbital period of Cruithne: 1.0005600614478884years\n",
      "Average orbital period of Jupiter: 11.861919626593576years\n",
      "Average orbital period of Saturn: 29.463139823657848years\n",
      "Average orbital period of Uranus: 84.04620231011552years\n",
      "Average orbital period of Neptune: 164.70823541177054years\n"
     ]
    }
   ],
   "source": [
    "print(\"Average orbital period of Mercury: \"+ str(np.mean(calculate_period(1))) + \" years\")\n",
    "print(\"Average orbital period of Venus: \"+ str(np.mean(calculate_period(2))) + \" years\")\n",
    "print(\"Average orbital period of Earth: \"+ str(np.mean(calculate_period(3))) + \" years\")\n",
    "print(\"Average orbital period of Mars: \"+ str(np.mean(calculate_period(4))) + \" years\")\n",
    "print(\"Average orbital period of Cruithne: \"+ str(np.mean(calculate_period(5))) +\" years\")\n",
    "print(\"Average orbital period of Jupiter: \"+ str(np.mean(calculate_period(6))) + \" years\")\n",
    "print(\"Average orbital period of Saturn: \"+ str(np.mean(calculate_period(7))) + \" years\")\n",
    "print(\"Average orbital period of Uranus: \"+ str(np.mean(calculate_period(8))) + \" years\")\n",
    "print(\"Average orbital period of Neptune: \"+ str(np.mean(calculate_period(9))) + \" years\")"
   ]
  },
  {
   "cell_type": "code",
   "execution_count": null,
   "metadata": {},
   "outputs": [],
   "source": []
  }
 ],
 "metadata": {
  "kernelspec": {
   "display_name": "Python 3",
   "language": "python",
   "name": "python3"
  },
  "language_info": {
   "codemirror_mode": {
    "name": "ipython",
    "version": 3
   },
   "file_extension": ".py",
   "mimetype": "text/x-python",
   "name": "python",
   "nbconvert_exporter": "python",
   "pygments_lexer": "ipython3",
   "version": "3.6.6"
  }
 },
 "nbformat": 4,
 "nbformat_minor": 2
}
