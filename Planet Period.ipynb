{
 "cells": [
  {
   "cell_type": "code",
   "execution_count": 1,
   "metadata": {
    "scrolled": true
   },
   "outputs": [
    {
     "name": "stdout",
     "output_type": "stream",
     "text": [
      "---------------------------------\n",
      "REBOUND version:     \t3.7.2\n",
      "REBOUND built on:    \tJan 31 2019 09:37:22\n",
      "Number of particles: \t10\n",
      "Selected integrator: \tias15\n",
      "Simulation time:     \t0.0000000000000000e+00\n",
      "Current timestep:    \t0.001000\n",
      "---------------------------------\n",
      "<rebound.Particle object, m=1.0 x=-0.0010377821915567387 y=0.007493321292031362 z=-5.012610063327123e-05 vx=-0.002937902617112376 vy=0.0006056110662132348 vz=7.578703369622471e-05>\n",
      "<rebound.Particle object, m=1.6601141530543488e-07 x=0.3443668457327731 y=-0.17067080513666635 z=-0.0462951133296615 vx=2.6968801249944008 vy=9.601036132615253 vz=0.5368849879358131>\n",
      "<rebound.Particle object, m=2.4478382877847715e-06 x=-0.6879796788647574 y=-0.20944951066386214 z=0.03661495770819082 vx=2.172777546712054 vy=-7.077368730280796 vz=-0.22259841261107977>\n",
      "<rebound.Particle object, m=3.040432648022642e-06 x=-0.7113045602813076 y=0.6912559280347028 z=-7.911325877229079e-05 vx=-4.4635291727530735 vy=-4.550103270674196 vz=0.0002952403660311697>\n",
      "<rebound.Particle object, m=3.2271560375549977e-07 x=0.7222418184269456 y=1.3193769251783092 z=0.009691205175749016 vx=-4.285531855139709 vy=2.903536753461382 vz=0.16598643583035083>\n",
      "<rebound.Particle object, m=3.287781142545315e-47 x=0.2111368239460187 y=-0.8695536132954607 z=0.12497534886643694 vx=6.323485856083891 vy=-2.2922114686158253 vz=-1.3498208103869687>\n",
      "<rebound.Particle object, m=0.0009547919152112404 x=-1.8904420641644137 y=-4.9860178783463756 z=0.06296612674680713 vx=2.5440837497591993 vy=-0.8456894477336778 vz=-0.05340035197423358>\n",
      "<rebound.Particle object, m=0.0002858856727222417 x=2.141598973228664 y=-9.819964343333854 z=0.08549502234316599 vx=1.8785610384796738 vy=0.4277758437078829 vz=-0.08221844152483909>\n",
      "<rebound.Particle object, m=4.36624373583127e-05 x=16.941907602232558 y=10.363258245601195 z=-0.18099523953894006 vx=-0.760160401427282 vy=1.1585183314623628 vz=0.01415094541807456>\n",
      "<rebound.Particle object, m=5.151383772628674e-05 x=29.00851699373711 y=-7.372702555359082 z=-0.5167036063072042 vx=0.27481038856769613 vy=1.1180549412232097 vz=-0.02935731294216716>\n",
      "---------------------------------\n"
     ]
    }
   ],
   "source": [
    "import rebound\n",
    "from IPython.display import display, clear_output\n",
    "import matplotlib.pyplot as plt\n",
    "import ipywidgets as widgets\n",
    "import numpy as np\n",
    "\n",
    "\n",
    "sim = rebound.Simulation.from_file(\"checkpoint.bin\")\n",
    "sim.status()"
   ]
  },
  {
   "cell_type": "code",
   "execution_count": 2,
   "metadata": {
    "scrolled": true
   },
   "outputs": [],
   "source": [
    "# def get_distance(index):\n",
    "#     x = sim.particles[index].x\n",
    "#     y = sim.particles[index].y\n",
    "#     z = sim.particles[index].z\n",
    "#     return np.sqrt(np.square(x-x0)+np.square(y-y0)+np.square(z-z0))\n",
    "\n",
    "def calculate_period(index):\n",
    "\n",
    "    sim.t = 0\n",
    "    sim.move_to_com()\n",
    "    xi_1 = 0\n",
    "    xi_0 = 0\n",
    "    i = 0\n",
    "    x0 = sim.particles[index].x\n",
    "    y0 = sim.particles[index].y\n",
    "    z0 = sim.particles[index].z\n",
    "\n",
    "    periods = []\n",
    "\n",
    "    for time in np.linspace(0,300.,20000):\n",
    "        sim.integrate(time)\n",
    "        xi_0 = xi_1\n",
    "        xi_1 = sim.particles[index].x\n",
    "        if np.sign(xi_0) != np.sign(xi_1) and i>2:\n",
    "            periods.append(sim.t)\n",
    "\n",
    "        i+=1\n",
    "    periods_f = []\n",
    "    for i in range(len(periods)-2):\n",
    "        periods_f.append(periods[i+2]-periods[i])\n",
    "        \n",
    "    return periods_f\n",
    "  "
   ]
  },
  {
   "cell_type": "code",
   "execution_count": 3,
   "metadata": {},
   "outputs": [
    {
     "name": "stdout",
     "output_type": "stream",
     "text": [
      "Average orbital period of Mercury: 0.24084370148599832 years\n",
      "Average orbital period of Venus: 0.6152001645256799 years\n",
      "Average orbital period of Earth: 1.0000081943896526 years\n",
      "Average orbital period of Mars: 1.8808669140081609 years\n",
      "Average orbital period of Cruithne: 1.0012309660709167 years\n",
      "Average orbital period of Jupiter: 11.861919626593576 years\n",
      "Average orbital period of Saturn: 29.449805823624516 years\n",
      "Average orbital period of Uranus: 84.037201860093 years\n",
      "Average orbital period of Neptune: 164.7082354117706 years\n"
     ]
    }
   ],
   "source": [
    "print(\"Average orbital period of Mercury: \"+ str(np.mean(calculate_period(1))) + \" years\")\n",
    "print(\"Average orbital period of Venus: \"+ str(np.mean(calculate_period(2))) + \" years\")\n",
    "print(\"Average orbital period of Earth: \"+ str(np.mean(calculate_period(3))) + \" years\")\n",
    "print(\"Average orbital period of Mars: \"+ str(np.mean(calculate_period(4))) + \" years\")\n",
    "print(\"Average orbital period of Cruithne: \"+ str(np.mean(calculate_period(5))) +\" years\")\n",
    "print(\"Average orbital period of Jupiter: \"+ str(np.mean(calculate_period(6))) + \" years\")\n",
    "print(\"Average orbital period of Saturn: \"+ str(np.mean(calculate_period(7))) + \" years\")\n",
    "print(\"Average orbital period of Uranus: \"+ str(np.mean(calculate_period(8))) + \" years\")\n",
    "print(\"Average orbital period of Neptune: \"+ str(np.mean(calculate_period(9))) + \" years\")"
   ]
  },
  {
   "cell_type": "code",
   "execution_count": null,
   "metadata": {},
   "outputs": [],
   "source": []
  }
 ],
 "metadata": {
  "kernelspec": {
   "display_name": "Python 3",
   "language": "python",
   "name": "python3"
  },
  "language_info": {
   "codemirror_mode": {
    "name": "ipython",
    "version": 3
   },
   "file_extension": ".py",
   "mimetype": "text/x-python",
   "name": "python",
   "nbconvert_exporter": "python",
   "pygments_lexer": "ipython3",
   "version": "3.6.6"
  }
 },
 "nbformat": 4,
 "nbformat_minor": 2
}
